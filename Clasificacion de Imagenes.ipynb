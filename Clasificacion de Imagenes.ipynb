{
 "cells": [
  {
   "cell_type": "markdown",
   "metadata": {},
   "source": [
    "En este notebook se va a utilizar Pytorch para poder clasificar el datase MNIST de dígitos escritos a mano. Consiste en imagenes de 28px x 28px indicando digitos escritos a mano del 0 al 9.\n",
    "\n",
    "![mnist-sample](https://i.imgur.com/CAYnuo1.jpg)"
   ]
  },
  {
   "cell_type": "code",
   "execution_count": 1,
   "metadata": {},
   "outputs": [],
   "source": [
    "import torch\n",
    "import torchvision\n",
    "from torchvision.datasets import MNIST"
   ]
  },
  {
   "cell_type": "code",
   "execution_count": 2,
   "metadata": {},
   "outputs": [
    {
     "name": "stdout",
     "output_type": "stream",
     "text": [
      "Downloading http://yann.lecun.com/exdb/mnist/train-images-idx3-ubyte.gz to data/MNIST/raw/train-images-idx3-ubyte.gz\n"
     ]
    },
    {
     "data": {
      "application/vnd.jupyter.widget-view+json": {
       "model_id": "dfec706161f245c494d1263c3e6f96e8",
       "version_major": 2,
       "version_minor": 0
      },
      "text/plain": [
       "HBox(children=(FloatProgress(value=1.0, bar_style='info', layout=Layout(width='20px'), max=1.0), HTML(value=''…"
      ]
     },
     "metadata": {},
     "output_type": "display_data"
    },
    {
     "name": "stdout",
     "output_type": "stream",
     "text": [
      "Extracting data/MNIST/raw/train-images-idx3-ubyte.gz to data/MNIST/raw\n",
      "Downloading http://yann.lecun.com/exdb/mnist/train-labels-idx1-ubyte.gz to data/MNIST/raw/train-labels-idx1-ubyte.gz\n"
     ]
    },
    {
     "data": {
      "application/vnd.jupyter.widget-view+json": {
       "model_id": "fd9d8e466bfe4632afb7f47ea257cd66",
       "version_major": 2,
       "version_minor": 0
      },
      "text/plain": [
       "HBox(children=(FloatProgress(value=1.0, bar_style='info', layout=Layout(width='20px'), max=1.0), HTML(value=''…"
      ]
     },
     "metadata": {},
     "output_type": "display_data"
    },
    {
     "name": "stdout",
     "output_type": "stream",
     "text": [
      "Extracting data/MNIST/raw/train-labels-idx1-ubyte.gz to data/MNIST/raw\n",
      "Downloading http://yann.lecun.com/exdb/mnist/t10k-images-idx3-ubyte.gz to data/MNIST/raw/t10k-images-idx3-ubyte.gz\n"
     ]
    },
    {
     "data": {
      "application/vnd.jupyter.widget-view+json": {
       "model_id": "aa13a3a771574ae692b15f8753eb92cc",
       "version_major": 2,
       "version_minor": 0
      },
      "text/plain": [
       "HBox(children=(FloatProgress(value=1.0, bar_style='info', layout=Layout(width='20px'), max=1.0), HTML(value=''…"
      ]
     },
     "metadata": {},
     "output_type": "display_data"
    },
    {
     "name": "stdout",
     "output_type": "stream",
     "text": [
      "\n",
      "Extracting data/MNIST/raw/t10k-images-idx3-ubyte.gz to data/MNIST/raw\n",
      "Downloading http://yann.lecun.com/exdb/mnist/t10k-labels-idx1-ubyte.gz to data/MNIST/raw/t10k-labels-idx1-ubyte.gz\n"
     ]
    },
    {
     "data": {
      "application/vnd.jupyter.widget-view+json": {
       "model_id": "44ef0de07794433ca790aaee46d465ce",
       "version_major": 2,
       "version_minor": 0
      },
      "text/plain": [
       "HBox(children=(FloatProgress(value=1.0, bar_style='info', layout=Layout(width='20px'), max=1.0), HTML(value=''…"
      ]
     },
     "metadata": {},
     "output_type": "display_data"
    },
    {
     "name": "stdout",
     "output_type": "stream",
     "text": [
      "Extracting data/MNIST/raw/t10k-labels-idx1-ubyte.gz to data/MNIST/raw\n",
      "Processing...\n",
      "Done!\n"
     ]
    },
    {
     "name": "stderr",
     "output_type": "stream",
     "text": [
      "/home/godorluis/.local/lib/python3.8/site-packages/torchvision/datasets/mnist.py:469: UserWarning: The given NumPy array is not writeable, and PyTorch does not support non-writeable tensors. This means you can write to the underlying (supposedly non-writeable) NumPy array using the tensor. You may want to copy the array to protect its data or make it writeable before converting it to a tensor. This type of warning will be suppressed for the rest of this program. (Triggered internally at  /pytorch/torch/csrc/utils/tensor_numpy.cpp:141.)\n",
      "  return torch.from_numpy(parsed.astype(m[2], copy=False)).view(*s)\n"
     ]
    }
   ],
   "source": [
    "# Descargar el dataset\n",
    "dataset = MNIST(root='data/', download=True)"
   ]
  },
  {
   "cell_type": "code",
   "execution_count": 3,
   "metadata": {},
   "outputs": [
    {
     "data": {
      "text/plain": [
       "60000"
      ]
     },
     "execution_count": 3,
     "metadata": {},
     "output_type": "execute_result"
    }
   ],
   "source": [
    "len(dataset)"
   ]
  },
  {
   "cell_type": "code",
   "execution_count": 5,
   "metadata": {},
   "outputs": [
    {
     "data": {
      "text/plain": [
       "10000"
      ]
     },
     "execution_count": 5,
     "metadata": {},
     "output_type": "execute_result"
    }
   ],
   "source": [
    "test_dataset = MNIST(root='data/', train=False)\n",
    "len(test_dataset)"
   ]
  },
  {
   "cell_type": "markdown",
   "metadata": {},
   "source": [
    "Cada dato del arreglo del dataset consiste en una imagen de 28x28 pixeles y su respectivo label. Podemos visualizar la imagen utilizando la libreria matplotlib."
   ]
  },
  {
   "cell_type": "code",
   "execution_count": 6,
   "metadata": {},
   "outputs": [
    {
     "data": {
      "text/plain": [
       "(<PIL.Image.Image image mode=L size=28x28 at 0x7F5338C4C910>, 5)"
      ]
     },
     "execution_count": 6,
     "metadata": {},
     "output_type": "execute_result"
    }
   ],
   "source": [
    "dataset[0]"
   ]
  },
  {
   "cell_type": "code",
   "execution_count": 7,
   "metadata": {},
   "outputs": [
    {
     "name": "stdout",
     "output_type": "stream",
     "text": [
      "\n",
      "\n",
      "\n"
     ]
    }
   ],
   "source": [
    "import matplotlib.pyplot as plt\n",
    "%matplotlib inline"
   ]
  },
  {
   "cell_type": "code",
   "execution_count": 8,
   "metadata": {},
   "outputs": [
    {
     "name": "stdout",
     "output_type": "stream",
     "text": [
      "Label : 5\n"
     ]
    },
    {
     "data": {
      "image/png": "[encoded data removed]",
      "text/plain": [
       "<Figure size 432x288 with 1 Axes>"
      ]
     },
     "metadata": {
      "needs_background": "light"
     },
     "output_type": "display_data"
    }
   ],
   "source": [
    "image, label = dataset[0]\n",
    "plt.imshow(image, cmap='gray')\n",
    "print(f'Label : {label}')"
   ]
  },
  {
   "cell_type": "markdown",
   "metadata": {},
   "source": [
    "Como se puede ver, es evidente que algunas imágenes son dificiles de reconocer incluso para el ojo humano. Si bien es útil poder ver la imagen tenemos un problema aquí. **Pytorch no sabe como trabajar con imágenes**. Necesitamos convertir las imagenes a tensores. Se puede lograr al aplicar una transformacion incluida en Pytorch al crear el dataset."
   ]
  },
  {
   "cell_type": "code",
   "execution_count": 9,
   "metadata": {},
   "outputs": [],
   "source": [
    "import torchvision.transforms as transforms"
   ]
  },
  {
   "cell_type": "markdown",
   "metadata": {},
   "source": [
    "Los datasets de Pytorch nos permiten especificar una o mas funciones de transformacion que son aplicadas a las imagenes mientras son cargadas. `torchvision.transforms` contiene muchas funciones predefinidas, en este caso ocuparemos la funcion `ToTensor` para convertir las imagenes en tensores de Pytorch."
   ]
  },
  {
   "cell_type": "code",
   "execution_count": 10,
   "metadata": {},
   "outputs": [],
   "source": [
    "dataset = MNIST(\n",
    "    root='data/',\n",
    "    train=True,\n",
    "    transform=transforms.ToTensor()\n",
    ")"
   ]
  },
  {
   "cell_type": "code",
   "execution_count": 11,
   "metadata": {},
   "outputs": [
    {
     "name": "stdout",
     "output_type": "stream",
     "text": [
      "torch.Size([1, 28, 28]) 5\n"
     ]
    }
   ],
   "source": [
    "img_tensor, label = dataset[0]\n",
    "print(img_tensor.shape, label)"
   ]
  },
  {
   "cell_type": "markdown",
   "metadata": {},
   "source": [
    "La imagen es transformada a un tensor de 1x28x28. La primera dimension es usada para mantener un registro de los canales de color. Como las imagenes del dataset MNIST estan en escala de grises hay solo un canal. Otros datasets tienen imagenes con color en cuyo caso hay 3 canales: rojo, verde y azul. Veamos aljunos ejemplos de los valores dentro del tensor."
   ]
  },
  {
   "cell_type": "code",
   "execution_count": 12,
   "metadata": {},
   "outputs": [
    {
     "name": "stdout",
     "output_type": "stream",
     "text": [
      "tensor([[[0.0039, 0.6039, 0.9922, 0.3529, 0.0000],\n",
      "         [0.0000, 0.5451, 0.9922, 0.7451, 0.0078],\n",
      "         [0.0000, 0.0431, 0.7451, 0.9922, 0.2745],\n",
      "         [0.0000, 0.0000, 0.1373, 0.9451, 0.8824],\n",
      "         [0.0000, 0.0000, 0.0000, 0.3176, 0.9412]]])\n",
      "tensor(1.) tensor(0.)\n"
     ]
    }
   ],
   "source": [
    "print(img_tensor[:,10:15,10:15])\n",
    "print(torch.max(img_tensor), torch.min(img_tensor))"
   ]
  },
  {
   "cell_type": "markdown",
   "metadata": {},
   "source": [
    "Los valores van en un rango de 0 a 1 con 0 representando negro y 1 representando blanco. Los valores entremedio representan diferentes niveles de grises. Podemos plotear tambien como una imagen el tensor."
   ]
  },
  {
   "cell_type": "code",
   "execution_count": 18,
   "metadata": {},
   "outputs": [
    {
     "data": {
      "image/png": "[encoded data removed]",
      "text/plain": [
       "<Figure size 432x288 with 1 Axes>"
      ]
     },
     "metadata": {
      "needs_background": "light"
     },
     "output_type": "display_data"
    }
   ],
   "source": [
    "plt.imshow(img_tensor[0,10:15,10:15], cmap='gray');"
   ]
  },
  {
   "cell_type": "markdown",
   "metadata": {},
   "source": [
    "# Datasets de entrenamiento y validación\n",
    "\n",
    "Mientra se crean modelos de machine learning en la práctica, es bastante común dividir el dataset en 3 partes:\n",
    "\n",
    "1. *Set de entrenamiento*: Usado para entrenar el modulo, por ejemplo para calcular la perdida y ajustar los pesos del modelo usando el descenso de gradiente.\n",
    "2. *Set de validación*: Usado para evaluar el modelo mientras se entrena, ajustar hiperparámetros (como la tasa de aprendizaje) y escoger la mejor versión del modelo.\n",
    "3. *Set de testing*: Usado para comparar diferentes modelos, y reportar finalmente la precisión del modelo.\n",
    "\n",
    "En el dataset MNIST hay 60.000 imágenes de entrenamiento y 10.000 de test. Las imágenes de test se encuentran estandarizadas para que diferentes investigadores puedan reportar sus resultados contra el mismo set de imágenes.\n",
    "\n",
    "Como no hay un set de validación predefinido vamos manualmente a dividir el set de 60.000 imágenes en un set de entrenamiento y otro de validación. Para ello vamos a separar 10.000 imágenes de forma aleatoria. Podemos lograr esto utilizando al función `random_split` includo en Pytorch."
   ]
  },
  {
   "cell_type": "code",
   "execution_count": 22,
   "metadata": {},
   "outputs": [
    {
     "data": {
      "text/plain": [
       "(50000, 10000)"
      ]
     },
     "execution_count": 22,
     "metadata": {},
     "output_type": "execute_result"
    }
   ],
   "source": [
    "from torch.utils.data import random_split\n",
    "\n",
    "train_ds, val_ds = random_split(dataset, [50000, 10000])\n",
    "len(train_ds), len(val_ds)"
   ]
  },
  {
   "cell_type": "markdown",
   "metadata": {},
   "source": [
    "Es importante crear muestras a partir de una elección aleatoria ya que generalmente los datasets son creados de forma ordenada, de modo que las primeras imágenes corresponde a 0, luego a 1 y así sucesivamente. De modo que si escogemos el último 20% de las imágenes el set de validación correspondería a imágenes de 8 y 9s mientras que el set de entrenamiento no contendría a esas imagenes.\n",
    "\n",
    "Ahora podemos crear data loaders para ayudarnos a cargar data in muestras. En este caso vamos a usar muestras de un tamaño de 128."
   ]
  },
  {
   "cell_type": "code",
   "execution_count": 24,
   "metadata": {},
   "outputs": [],
   "source": [
    "from torch.utils.data import DataLoader\n",
    "\n",
    "batch_size = 128\n",
    "train_loader = DataLoader(train_ds, batch_size, shuffle=True)\n",
    "val_loader = DataLoader(val_ds, batch_size)"
   ]
  },
  {
   "cell_type": "markdown",
   "metadata": {},
   "source": [
    "Se usa `shuffle=True` para el dataloader del conjunto de entrenamiento de modo de que las muestras generadas en cada epoca sean diferentes, además esta randomización nos permite generalizar y acelerar el proceso de entrenamiento."
   ]
  },
  {
   "cell_type": "markdown",
   "metadata": {},
   "source": [
    "# Modelo\n",
    "\n",
    "Ahora que hemos preparado la data podemos definir un modelo.\n",
    "\n",
    "- Un modelo de regresión logística es casi identico a un modelo de regresión lineal, por ejemplo existen matrices de pesos y sesgo , y la salida es obtenida utilizando operaciones de matrices sencillas.\n",
    "- Para esto podemos utilizar `nn.Linear` para crear nuestro modelo en vez de definir nuestras matrices de forma manual.\n",
    "- Como `nn.Linear` espera que cada muestra de entrenamiento sea un vector cada imagen de  `1x28x28` debe ser transformado a un vector de tamaño 784 (28x28) antes de ser pasado al modelo.\n",
    "- La salida de cada imagen es un vector de tamaño 10, con cda elementos del vector indicando la probabilidad de que una imagen pertenezca a un label entre 0 a 9. El label predecido es simplemente aquel que tenga la probabilidad más alta."
   ]
  },
  {
   "cell_type": "code",
   "execution_count": 25,
   "metadata": {},
   "outputs": [],
   "source": [
    "import torch.nn as nn\n",
    "\n",
    "input_size = 28*28\n",
    "num_classes = 10\n",
    "\n",
    "# Se crea el modelo de regresion logistica\n",
    "model = nn.Linear(input_size, num_classes)"
   ]
  },
  {
   "cell_type": "code",
   "execution_count": 27,
   "metadata": {},
   "outputs": [
    {
     "name": "stdout",
     "output_type": "stream",
     "text": [
      "torch.Size([10, 784])\n"
     ]
    },
    {
     "data": {
      "text/plain": [
       "Parameter containing:\n",
       "tensor([[-2.8686e-02, -3.1765e-02,  1.0496e-02,  ..., -6.9599e-03,\n",
       "          5.5420e-05,  2.9746e-02],\n",
       "        [ 7.2859e-03, -9.5817e-03,  2.8749e-02,  ...,  2.1367e-02,\n",
       "         -3.0565e-02,  2.9453e-02],\n",
       "        [ 3.5430e-02, -5.0170e-03, -3.2109e-02,  ...,  2.5602e-02,\n",
       "         -1.2768e-02,  1.4677e-02],\n",
       "        ...,\n",
       "        [-7.2318e-03,  1.5741e-02,  3.3301e-02,  ..., -1.0405e-02,\n",
       "          2.4042e-02,  2.1889e-02],\n",
       "        [-5.1963e-03,  1.9359e-02,  2.3672e-02,  ..., -2.5725e-02,\n",
       "         -4.3051e-03,  5.9955e-03],\n",
       "        [-7.9952e-03, -7.6148e-03, -2.5388e-02,  ...,  2.0268e-02,\n",
       "         -3.3370e-02, -1.0982e-02]], requires_grad=True)"
      ]
     },
     "execution_count": 27,
     "metadata": {},
     "output_type": "execute_result"
    }
   ],
   "source": [
    "print(model.weight.shape)\n",
    "model.weight"
   ]
  },
  {
   "cell_type": "code",
   "execution_count": 28,
   "metadata": {},
   "outputs": [
    {
     "name": "stdout",
     "output_type": "stream",
     "text": [
      "torch.Size([10])\n"
     ]
    },
    {
     "data": {
      "text/plain": [
       "Parameter containing:\n",
       "tensor([-0.0199,  0.0316, -0.0341,  0.0176,  0.0182,  0.0015,  0.0138, -0.0043,\n",
       "        -0.0320,  0.0078], requires_grad=True)"
      ]
     },
     "execution_count": 28,
     "metadata": {},
     "output_type": "execute_result"
    }
   ],
   "source": [
    "print(model.bias.shape)\n",
    "model.bias"
   ]
  },
  {
   "cell_type": "markdown",
   "metadata": {},
   "source": [
    "Como podemos ver el modelo en total tiene 7850 parámetros (10 * 784 + 10), no obstante nada ha cambiado respecto a lo que hicimos previamente con el modelo de regresión lineal. Vamos a intentar generar algunas salidas usando nuestro modelo. Vamos a tomar las primeras 100 imagenes de la muestra de nuestro dataset y pasarselas al modelo."
   ]
  },
  {
   "cell_type": "code",
   "execution_count": 29,
   "metadata": {},
   "outputs": [
    {
     "name": "stdout",
     "output_type": "stream",
     "text": [
      "tensor([9, 1, 2, 4, 3, 2, 8, 9, 6, 8, 0, 3, 2, 2, 4, 8, 2, 0, 1, 0, 9, 1, 1, 3,\n",
      "        7, 2, 1, 5, 7, 3, 1, 2, 9, 1, 9, 1, 7, 7, 8, 8, 2, 5, 2, 7, 1, 2, 5, 7,\n",
      "        5, 4, 7, 4, 3, 4, 1, 3, 6, 4, 8, 4, 6, 6, 4, 8, 8, 3, 7, 6, 9, 4, 3, 2,\n",
      "        4, 4, 6, 6, 7, 6, 5, 0, 7, 4, 7, 8, 5, 5, 5, 5, 7, 6, 5, 1, 8, 7, 0, 9,\n",
      "        7, 7, 5, 9, 4, 0, 6, 1, 6, 4, 9, 8, 1, 4, 7, 1, 9, 3, 2, 8, 5, 5, 3, 4,\n",
      "        1, 1, 6, 6, 2, 9, 7, 7])\n",
      "torch.Size([128, 1, 28, 28])\n"
     ]
    },
    {
     "ename": "RuntimeError",
     "evalue": "size mismatch, m1: [3584 x 28], m2: [784 x 10] at /pytorch/aten/src/TH/generic/THTensorMath.cpp:41",
     "output_type": "error",
     "traceback": [
      "\u001b[0;31m---------------------------------------------------------------------------\u001b[0m",
      "\u001b[0;31mRuntimeError\u001b[0m                              Traceback (most recent call last)",
      "\u001b[0;32m<ipython-input-29-72eddc737460>\u001b[0m in \u001b[0;36m<module>\u001b[0;34m\u001b[0m\n\u001b[1;32m      2\u001b[0m     \u001b[0mprint\u001b[0m\u001b[0;34m(\u001b[0m\u001b[0mlabels\u001b[0m\u001b[0;34m)\u001b[0m\u001b[0;34m\u001b[0m\u001b[0;34m\u001b[0m\u001b[0m\n\u001b[1;32m      3\u001b[0m     \u001b[0mprint\u001b[0m\u001b[0;34m(\u001b[0m\u001b[0mimages\u001b[0m\u001b[0;34m.\u001b[0m\u001b[0mshape\u001b[0m\u001b[0;34m)\u001b[0m\u001b[0;34m\u001b[0m\u001b[0;34m\u001b[0m\u001b[0m\n\u001b[0;32m----> 4\u001b[0;31m     \u001b[0moutputs\u001b[0m \u001b[0;34m=\u001b[0m \u001b[0mmodel\u001b[0m\u001b[0;34m(\u001b[0m\u001b[0mimages\u001b[0m\u001b[0;34m)\u001b[0m\u001b[0;34m\u001b[0m\u001b[0;34m\u001b[0m\u001b[0m\n\u001b[0m\u001b[1;32m      5\u001b[0m     \u001b[0;32mbreak\u001b[0m\u001b[0;34m\u001b[0m\u001b[0;34m\u001b[0m\u001b[0m\n",
      "\u001b[0;32m~/.local/lib/python3.8/site-packages/torch/nn/modules/module.py\u001b[0m in \u001b[0;36m_call_impl\u001b[0;34m(self, *input, **kwargs)\u001b[0m\n\u001b[1;32m    720\u001b[0m             \u001b[0mresult\u001b[0m \u001b[0;34m=\u001b[0m \u001b[0mself\u001b[0m\u001b[0;34m.\u001b[0m\u001b[0m_slow_forward\u001b[0m\u001b[0;34m(\u001b[0m\u001b[0;34m*\u001b[0m\u001b[0minput\u001b[0m\u001b[0;34m,\u001b[0m \u001b[0;34m**\u001b[0m\u001b[0mkwargs\u001b[0m\u001b[0;34m)\u001b[0m\u001b[0;34m\u001b[0m\u001b[0;34m\u001b[0m\u001b[0m\n\u001b[1;32m    721\u001b[0m         \u001b[0;32melse\u001b[0m\u001b[0;34m:\u001b[0m\u001b[0;34m\u001b[0m\u001b[0;34m\u001b[0m\u001b[0m\n\u001b[0;32m--> 722\u001b[0;31m             \u001b[0mresult\u001b[0m \u001b[0;34m=\u001b[0m \u001b[0mself\u001b[0m\u001b[0;34m.\u001b[0m\u001b[0mforward\u001b[0m\u001b[0;34m(\u001b[0m\u001b[0;34m*\u001b[0m\u001b[0minput\u001b[0m\u001b[0;34m,\u001b[0m \u001b[0;34m**\u001b[0m\u001b[0mkwargs\u001b[0m\u001b[0;34m)\u001b[0m\u001b[0;34m\u001b[0m\u001b[0;34m\u001b[0m\u001b[0m\n\u001b[0m\u001b[1;32m    723\u001b[0m         for hook in itertools.chain(\n\u001b[1;32m    724\u001b[0m                 \u001b[0m_global_forward_hooks\u001b[0m\u001b[0;34m.\u001b[0m\u001b[0mvalues\u001b[0m\u001b[0;34m(\u001b[0m\u001b[0;34m)\u001b[0m\u001b[0;34m,\u001b[0m\u001b[0;34m\u001b[0m\u001b[0;34m\u001b[0m\u001b[0m\n",
      "\u001b[0;32m~/.local/lib/python3.8/site-packages/torch/nn/modules/linear.py\u001b[0m in \u001b[0;36mforward\u001b[0;34m(self, input)\u001b[0m\n\u001b[1;32m     89\u001b[0m \u001b[0;34m\u001b[0m\u001b[0m\n\u001b[1;32m     90\u001b[0m     \u001b[0;32mdef\u001b[0m \u001b[0mforward\u001b[0m\u001b[0;34m(\u001b[0m\u001b[0mself\u001b[0m\u001b[0;34m,\u001b[0m \u001b[0minput\u001b[0m\u001b[0;34m:\u001b[0m \u001b[0mTensor\u001b[0m\u001b[0;34m)\u001b[0m \u001b[0;34m->\u001b[0m \u001b[0mTensor\u001b[0m\u001b[0;34m:\u001b[0m\u001b[0;34m\u001b[0m\u001b[0;34m\u001b[0m\u001b[0m\n\u001b[0;32m---> 91\u001b[0;31m         \u001b[0;32mreturn\u001b[0m \u001b[0mF\u001b[0m\u001b[0;34m.\u001b[0m\u001b[0mlinear\u001b[0m\u001b[0;34m(\u001b[0m\u001b[0minput\u001b[0m\u001b[0;34m,\u001b[0m \u001b[0mself\u001b[0m\u001b[0;34m.\u001b[0m\u001b[0mweight\u001b[0m\u001b[0;34m,\u001b[0m \u001b[0mself\u001b[0m\u001b[0;34m.\u001b[0m\u001b[0mbias\u001b[0m\u001b[0;34m)\u001b[0m\u001b[0;34m\u001b[0m\u001b[0;34m\u001b[0m\u001b[0m\n\u001b[0m\u001b[1;32m     92\u001b[0m \u001b[0;34m\u001b[0m\u001b[0m\n\u001b[1;32m     93\u001b[0m     \u001b[0;32mdef\u001b[0m \u001b[0mextra_repr\u001b[0m\u001b[0;34m(\u001b[0m\u001b[0mself\u001b[0m\u001b[0;34m)\u001b[0m \u001b[0;34m->\u001b[0m \u001b[0mstr\u001b[0m\u001b[0;34m:\u001b[0m\u001b[0;34m\u001b[0m\u001b[0;34m\u001b[0m\u001b[0m\n",
      "\u001b[0;32m~/.local/lib/python3.8/site-packages/torch/nn/functional.py\u001b[0m in \u001b[0;36mlinear\u001b[0;34m(input, weight, bias)\u001b[0m\n\u001b[1;32m   1674\u001b[0m         \u001b[0mret\u001b[0m \u001b[0;34m=\u001b[0m \u001b[0mtorch\u001b[0m\u001b[0;34m.\u001b[0m\u001b[0maddmm\u001b[0m\u001b[0;34m(\u001b[0m\u001b[0mbias\u001b[0m\u001b[0;34m,\u001b[0m \u001b[0minput\u001b[0m\u001b[0;34m,\u001b[0m \u001b[0mweight\u001b[0m\u001b[0;34m.\u001b[0m\u001b[0mt\u001b[0m\u001b[0;34m(\u001b[0m\u001b[0;34m)\u001b[0m\u001b[0;34m)\u001b[0m\u001b[0;34m\u001b[0m\u001b[0;34m\u001b[0m\u001b[0m\n\u001b[1;32m   1675\u001b[0m     \u001b[0;32melse\u001b[0m\u001b[0;34m:\u001b[0m\u001b[0;34m\u001b[0m\u001b[0;34m\u001b[0m\u001b[0m\n\u001b[0;32m-> 1676\u001b[0;31m         \u001b[0moutput\u001b[0m \u001b[0;34m=\u001b[0m \u001b[0minput\u001b[0m\u001b[0;34m.\u001b[0m\u001b[0mmatmul\u001b[0m\u001b[0;34m(\u001b[0m\u001b[0mweight\u001b[0m\u001b[0;34m.\u001b[0m\u001b[0mt\u001b[0m\u001b[0;34m(\u001b[0m\u001b[0;34m)\u001b[0m\u001b[0;34m)\u001b[0m\u001b[0;34m\u001b[0m\u001b[0;34m\u001b[0m\u001b[0m\n\u001b[0m\u001b[1;32m   1677\u001b[0m         \u001b[0;32mif\u001b[0m \u001b[0mbias\u001b[0m \u001b[0;32mis\u001b[0m \u001b[0;32mnot\u001b[0m \u001b[0;32mNone\u001b[0m\u001b[0;34m:\u001b[0m\u001b[0;34m\u001b[0m\u001b[0;34m\u001b[0m\u001b[0m\n\u001b[1;32m   1678\u001b[0m             \u001b[0moutput\u001b[0m \u001b[0;34m+=\u001b[0m \u001b[0mbias\u001b[0m\u001b[0;34m\u001b[0m\u001b[0;34m\u001b[0m\u001b[0m\n",
      "\u001b[0;31mRuntimeError\u001b[0m: size mismatch, m1: [3584 x 28], m2: [784 x 10] at /pytorch/aten/src/TH/generic/THTensorMath.cpp:41"
     ]
    }
   ],
   "source": [
    "for images, labels in train_loader:\n",
    "    print(labels)\n",
    "    print(images.shape)\n",
    "    outputs = model(images)\n",
    "    break"
   ]
  },
  {
   "cell_type": "markdown",
   "metadata": {},
   "source": [
    "Como podemos ver se genera un error. Esto es debido a que la data de entrada no tiene la forma apropiada. Nuestras imagenes tienen una forma de `1x28x28` pero necesitamos que sean vectores de 784. Para esto vamos a utilizar el metodo `reshape` propio del tensor, el cual nos permite de forma eficiente ver cada imagen como un vector sin cambiar nada de la data.\n",
    "\n",
    "Para incluir esta funcionalidad adicional dentro de nuestro modelo necesitamos definir un modelo personalizado, estendiendo la clase `nn.Module` de Pytorch."
   ]
  },
  {
   "cell_type": "code",
   "execution_count": 30,
   "metadata": {},
   "outputs": [],
   "source": [
    "class MnistModel(nn.Module):\n",
    "    def __init__(self):\n",
    "        super().__init__()\n",
    "        self.linear = nn.Linear(input_size, num_classes)\n",
    "    def forward(self, xb):\n",
    "        xb = xb.reshape(-1,784)\n",
    "        out = self.linear(xb)\n",
    "        return out\n",
    "model = MnistModel()"
   ]
  },
  {
   "cell_type": "markdown",
   "metadata": {},
   "source": [
    "Dentro del constructo se inicializan los pesos y sesgos usando `nn.Linear`. Y dentro del método `forward`, el cual es invocado cuando pasamos una muestra al modelo, se transforma la entrada a un vector y se le pasa al metodo self.linear.\n",
    "\n",
    "`xb.reshape(-1,28*28)` indica a Pytorch que queremos ver la entrada como un vector de 28x28.\n",
    "\n",
    "Notar que el modelo ya no tiene atributos `weight` o `bias` (ya que ahora se encuentran dentro del atributo `.linear`) no obstante ahora tiene un metodo `.parameters` que retorna una lista conteniendo los pesos y sesgo, y pueden ser utilizados por el optimizador de Pytoch."
   ]
  },
  {
   "cell_type": "code",
   "execution_count": 31,
   "metadata": {},
   "outputs": [
    {
     "name": "stdout",
     "output_type": "stream",
     "text": [
      "torch.Size([10, 784]) torch.Size([10])\n"
     ]
    },
    {
     "data": {
      "text/plain": [
       "[Parameter containing:\n",
       " tensor([[-0.0181, -0.0220, -0.0200,  ...,  0.0256,  0.0129,  0.0271],\n",
       "         [-0.0208,  0.0285, -0.0048,  ...,  0.0341, -0.0158, -0.0238],\n",
       "         [-0.0097, -0.0065,  0.0206,  ...,  0.0151,  0.0081,  0.0179],\n",
       "         ...,\n",
       "         [-0.0189,  0.0143,  0.0030,  ..., -0.0142,  0.0337, -0.0113],\n",
       "         [ 0.0069,  0.0107, -0.0328,  ...,  0.0095,  0.0151,  0.0303],\n",
       "         [-0.0349,  0.0041,  0.0010,  ...,  0.0111, -0.0066,  0.0190]],\n",
       "        requires_grad=True),\n",
       " Parameter containing:\n",
       " tensor([ 0.0280, -0.0306, -0.0144, -0.0250,  0.0242,  0.0208, -0.0016,  0.0142,\n",
       "         -0.0214,  0.0300], requires_grad=True)]"
      ]
     },
     "execution_count": 31,
     "metadata": {},
     "output_type": "execute_result"
    }
   ],
   "source": [
    "print(model.linear.weight.shape, model.linear.bias.shape)\n",
    "list(model.parameters())"
   ]
  },
  {
   "cell_type": "markdown",
   "metadata": {},
   "source": [
    "Nuestro nuevo modelo personalizado puede ser usado exactamente igual que antes. Veamos como funciona"
   ]
  },
  {
   "cell_type": "code",
   "execution_count": 42,
   "metadata": {},
   "outputs": [
    {
     "name": "stdout",
     "output_type": "stream",
     "text": [
      "outputs.shape : torch.Size([128, 10])\n",
      "Sample outputs : \n",
      " tensor([[-0.5040, -0.1020,  0.1870,  0.0300, -0.1649,  0.0016, -0.1723, -0.3634,\n",
      "         -0.1981, -0.4008],\n",
      "        [-0.3832,  0.2775,  0.2560,  0.0249, -0.3063,  0.3165, -0.1059, -0.0885,\n",
      "         -0.2439, -0.2612]])\n",
      "128\n"
     ]
    }
   ],
   "source": [
    "for images, labels in train_loader:\n",
    "    outputs = model(images)\n",
    "    break\n",
    "print(f'outputs.shape : {outputs.shape}')\n",
    "print(f'Sample outputs : \\n {outputs[:2].data}')\n",
    "print(len(outputs.data))"
   ]
  },
  {
   "cell_type": "markdown",
   "metadata": {},
   "source": [
    "Como podemos ver para cada imagen de entrada se obtiene una salida como un vector de tamaño 10, representando los 10 posibles digitos. Nos gustaría poder representar estas salidas como probabildiades, pero claramente los elementos no son probabilidades ya que podemos ver valores negativos o algunos mayores que 1.\n",
    "\n",
    "Para convertir las salidas en probabilidades vamos a usar la funcion de activacion softmax, que posee la siguiente fórmula:\n",
    "\n",
    "![softmax](https://i.imgur.com/EAh9jLN.png)\n",
    "\n",
    "Primero se reemplazada cada valor `yi` en el vector de salida por `e^yi` para asegurarnos que los elementos sean positivos, luego se divide cada elemento en la suma de todos los elementos para asegurarnos que lleguen como maximo a 1.\n"
   ]
  },
  {
   "cell_type": "code",
   "execution_count": 34,
   "metadata": {},
   "outputs": [],
   "source": [
    "import torch.nn.functional as F"
   ]
  },
  {
   "cell_type": "markdown",
   "metadata": {},
   "source": [
    "La función softmax se encuentra incluida en el paquete `torch.nn.functional` y requiere que especifiquemos la dimension sobre la cual se debe aplicar la funcion.\n"
   ]
  },
  {
   "cell_type": "code",
   "execution_count": 43,
   "metadata": {},
   "outputs": [
    {
     "name": "stdout",
     "output_type": "stream",
     "text": [
      "Probabilidades \n",
      ": tensor([[0.0701, 0.1048, 0.1399, 0.1195, 0.0984, 0.1162, 0.0977, 0.0807, 0.0952,\n",
      "         0.0777],\n",
      "        [0.0696, 0.1347, 0.1319, 0.1047, 0.0752, 0.1401, 0.0918, 0.0934, 0.0800,\n",
      "         0.0786]])\n",
      "Suma de probabilidades : 1.0\n"
     ]
    }
   ],
   "source": [
    "probs = F.softmax(outputs, dim=1)\n",
    "\n",
    "print(f'Probabilidades \\n: {probs[:2].data}')\n",
    "print(f\"Suma de probabilidades : {torch.sum(probs[0]).item()}\")"
   ]
  },
  {
   "cell_type": "markdown",
   "metadata": {},
   "source": [
    "Finalmente podemos determinar el label predecido por cada imagen simplemente escogiendo el indice del elemento con la mayor probabilidad en cada output. Esto se puede lograr usando el metodo `torch.max`, el cual retorna el mayor elemento y el indice del mayor elemento sobre una dimension particular del tensor."
   ]
  },
  {
   "cell_type": "code",
   "execution_count": 45,
   "metadata": {},
   "outputs": [
    {
     "name": "stdout",
     "output_type": "stream",
     "text": [
      "tensor([2, 5, 2, 2, 2, 2, 2, 2, 2, 3, 4, 2, 2, 1, 3, 2, 2, 9, 1, 5, 2, 5, 2, 3,\n",
      "        2, 2, 2, 5, 2, 2, 2, 3, 2, 2, 2, 2, 2, 3, 2, 2, 2, 1, 2, 1, 2, 5, 2, 2,\n",
      "        2, 2, 4, 2, 1, 3, 2, 2, 2, 2, 2, 2, 2, 3, 5, 2, 2, 2, 5, 2, 2, 2, 5, 2,\n",
      "        2, 2, 2, 2, 1, 2, 2, 8, 2, 5, 2, 2, 2, 2, 2, 2, 2, 2, 2, 5, 2, 2, 2, 2,\n",
      "        2, 2, 5, 5, 1, 5, 2, 2, 2, 2, 2, 2, 3, 8, 3, 2, 2, 5, 2, 1, 2, 3, 1, 2,\n",
      "        2, 5, 2, 8, 2, 2, 2, 2])\n",
      "tensor([0.1399, 0.1401, 0.1423, 0.1526, 0.1203, 0.1325, 0.1548, 0.1347, 0.1268,\n",
      "        0.1291, 0.1285, 0.1727, 0.1833, 0.1414, 0.1335, 0.1441, 0.1374, 0.1214,\n",
      "        0.1416, 0.1357, 0.1691, 0.1430, 0.1761, 0.1281, 0.1409, 0.1223, 0.1674,\n",
      "        0.1454, 0.1289, 0.1485, 0.1634, 0.1296, 0.1451, 0.1354, 0.1452, 0.1518,\n",
      "        0.1277, 0.1422, 0.1207, 0.1337, 0.1222, 0.1233, 0.1510, 0.1443, 0.1857,\n",
      "        0.1192, 0.1535, 0.1318, 0.1328, 0.1329, 0.1242, 0.1264, 0.1345, 0.1373,\n",
      "        0.1329, 0.1189, 0.1171, 0.1374, 0.1494, 0.1452, 0.1425, 0.1402, 0.1116,\n",
      "        0.1493, 0.1376, 0.1260, 0.1357, 0.1596, 0.1260, 0.1429, 0.1285, 0.1187,\n",
      "        0.1456, 0.1259, 0.1347, 0.1468, 0.1318, 0.1375, 0.1343, 0.1170, 0.1618,\n",
      "        0.1199, 0.1294, 0.1475, 0.1292, 0.2203, 0.1173, 0.1604, 0.1707, 0.1399,\n",
      "        0.1506, 0.1331, 0.1291, 0.1353, 0.1485, 0.1311, 0.1519, 0.1242, 0.1420,\n",
      "        0.1344, 0.1277, 0.1470, 0.1436, 0.1384, 0.1390, 0.1706, 0.1193, 0.1309,\n",
      "        0.1324, 0.1285, 0.1394, 0.1759, 0.1624, 0.1219, 0.1406, 0.1252, 0.1405,\n",
      "        0.1295, 0.1246, 0.1560, 0.1403, 0.1273, 0.1417, 0.1234, 0.1622, 0.1556,\n",
      "        0.1837, 0.1475], grad_fn=<MaxBackward0>)\n"
     ]
    }
   ],
   "source": [
    "max_probs, preds = torch.max(probs, dim=1)\n",
    "print(preds)\n",
    "print(max_probs)"
   ]
  },
  {
   "cell_type": "markdown",
   "metadata": {},
   "source": [
    "Los numeros mostrados son los labels predecidos. Comparemoslos con los labels reales."
   ]
  },
  {
   "cell_type": "code",
   "execution_count": 46,
   "metadata": {},
   "outputs": [
    {
     "data": {
      "text/plain": [
       "tensor([2, 3, 8, 7, 1, 9, 2, 5, 1, 1, 3, 5, 8, 3, 4, 8, 1, 9, 3, 0, 8, 3, 5, 9,\n",
       "        1, 1, 0, 8, 4, 5, 3, 6, 8, 7, 7, 7, 8, 9, 2, 8, 7, 4, 6, 3, 0, 1, 3, 5,\n",
       "        2, 7, 1, 1, 5, 2, 5, 3, 1, 6, 9, 4, 7, 5, 1, 0, 8, 5, 6, 7, 8, 7, 0, 1,\n",
       "        0, 3, 9, 2, 6, 2, 9, 0, 0, 1, 9, 6, 8, 0, 1, 3, 8, 7, 5, 6, 3, 1, 7, 1,\n",
       "        0, 1, 6, 8, 5, 7, 2, 2, 0, 5, 3, 4, 4, 2, 0, 6, 3, 8, 0, 7, 8, 9, 4, 0,\n",
       "        8, 0, 7, 2, 9, 8, 5, 6])"
      ]
     },
     "execution_count": 46,
     "metadata": {},
     "output_type": "execute_result"
    }
   ],
   "source": [
    "labels"
   ]
  },
  {
   "cell_type": "markdown",
   "metadata": {},
   "source": [
    "Claramente los labels predecidos y los reales son completamente diferentes. Obviamente esto es porque los pesos se han inicialiado de forma aleatoria al igual que el sesgo. Ahora necesitamos entrenar el modelo para obtener mejores predicciones."
   ]
  },
  {
   "cell_type": "markdown",
   "metadata": {},
   "source": [
    "# Metrica de evaluacion y funcion de perdida\n",
    "\n",
    "Necesitamos una forma de valuar que tan bien esta nuestro modelo prediciendo. Una forma natural de hacer esto seria encontrar el procentaje de labels que ha predecido correctamente, es decir la presisión del modelo."
   ]
  },
  {
   "cell_type": "code",
   "execution_count": 47,
   "metadata": {},
   "outputs": [],
   "source": [
    "def accuracy(outputs, labels):\n",
    "    _, preds = torch.max(outputs, dim=1)\n",
    "    return torch.tensor(torch.sum(preds == labels).item() / len(preds))"
   ]
  },
  {
   "cell_type": "markdown",
   "metadata": {},
   "source": [
    "El operador `==` funciona como una comparasión de lementos entre dos tensores de igual forma, y retorna un nuevo tensor conteniedo 0s para los elementos no iguales y 1s para los elementos iguales. Pasarle esto al metodo `torch.sum` retorna la cantidad de labels predecidos correctamente."
   ]
  },
  {
   "cell_type": "code",
   "execution_count": 48,
   "metadata": {},
   "outputs": [
    {
     "data": {
      "text/plain": [
       "tensor(0.0703)"
      ]
     },
     "execution_count": 48,
     "metadata": {},
     "output_type": "execute_result"
    }
   ],
   "source": [
    "accuracy(outputs, labels)"
   ]
  },
  {
   "cell_type": "markdown",
   "metadata": {},
   "source": [
    "Mientras que la presisión es una buena forma para nosotros los humanos de evaluar el modelo, no puede ser usado como función de perdida para optimizar nuestro modelo por las siguientes razones.\n",
    "- No es una función diferenciable. `torc.hmax` y `==` son ambas operaciones no  continuas y no diferenciables\n",
    "- No toma en cuenta la probabilidad actual predicha por el modelo, asi que no puede aportar un feedback suficiente para mejorar.\n",
    "\n",
    "Una funcion de perdida comunmente usada para problemas de clasificación es la **entropía cruzada**, la cual tiene la siguiente formula:\n",
    "\n",
    "![cross-entropy](https://i.imgur.com/VDRDl1D.png)\n",
    "\n",
    "Aún si parece complicado la verdad es bastante sencillo.\n",
    "\n",
    "- Por cada fila de los outputs se escoge la probabilidad predicha para el label correcto.\n",
    "- Luego toma el logaritmo natural de la probabilidad escogida. Si la probabilidad es alta (cercana a 1), entonces el logaritmo es un valor negativo pequeño cercano a 0. Y si la probabilidad es pequeña (cercana a 0) entonces el logaritmo es un numero negativo muy alto. Luego multiplicamos el resultado por -1 lo que nos da un valor alto de la función de perdida.\n",
    "\n"
   ]
  },
  {
   "cell_type": "code",
   "execution_count": 49,
   "metadata": {},
   "outputs": [],
   "source": [
    "loss_fn = F.cross_entropy"
   ]
  },
  {
   "cell_type": "code",
   "execution_count": 50,
   "metadata": {},
   "outputs": [
    {
     "name": "stdout",
     "output_type": "stream",
     "text": [
      "tensor(2.3209, grad_fn=<NllLossBackward>)\n"
     ]
    }
   ],
   "source": [
    "loss = loss_fn(outputs,labels)\n",
    "print(loss)"
   ]
  },
  {
   "cell_type": "markdown",
   "metadata": {},
   "source": [
    "# Entrenado el modelo\n",
    "\n",
    "Ahora que se ha definido los data_loeaders, el modelo y la funcion de perdida estamos listos para entrenar el modelo. El algoritmo de entrenamiento es identico al de regresión lineal, con la adición de una fase de validación, tal y como se ve en el siguiente pseudocodigo.\n",
    "\n",
    "```\n",
    "for epoch in range(num_epochs):\n",
    "    # Training phase\n",
    "    for batch in train_loader:\n",
    "        # Generate predictions\n",
    "        # Calculate loss\n",
    "        # Compute gradients\n",
    "        # Update weights\n",
    "        # Reset gradients\n",
    "    \n",
    "    # Validation phase\n",
    "    for batch in val_loader:\n",
    "        # Generate predictions\n",
    "        # Calculate loss\n",
    "        # Calculate metrics (accuracy etc.)\n",
    "    # Calculate average validation loss & metrics\n",
    "    \n",
    "    # Log epoch, loss & metrics for inspection\n",
    "```"
   ]
  },
  {
   "cell_type": "code",
   "execution_count": 58,
   "metadata": {},
   "outputs": [],
   "source": [
    "class MnistModel(nn.Module):\n",
    "    def __init__(self):\n",
    "        super().__init__()\n",
    "        self.linear = nn.Linear(input_size, num_classes)\n",
    "        \n",
    "    def forward(self, xb):\n",
    "        xb = xb.reshape(-1, 784)\n",
    "        out = self.linear(xb)\n",
    "        return out\n",
    "    \n",
    "    def training_step(self, batch):\n",
    "        images, labels = batch \n",
    "        out = self(images)                  # Generar predicciones\n",
    "        loss = F.cross_entropy(out, labels) # Calcular perdida\n",
    "        return loss\n",
    "    \n",
    "    def validation_step(self, batch):\n",
    "        images, labels = batch \n",
    "        out = self(images)                    # Generar predicciones\n",
    "        loss = F.cross_entropy(out, labels)   # Calcular perdida\n",
    "        acc = accuracy(out, labels)           # Calcular precision\n",
    "        return {'val_loss': loss, 'val_acc': acc}\n",
    "        \n",
    "    def validation_epoch_end(self, outputs):\n",
    "        batch_losses = [x['val_loss'] for x in outputs]\n",
    "        epoch_loss = torch.stack(batch_losses).mean()   # Combinar perdidas\n",
    "        batch_accs = [x['val_acc'] for x in outputs]\n",
    "        epoch_acc = torch.stack(batch_accs).mean()      # Combinar precision\n",
    "        return {'val_loss': epoch_loss.item(), 'val_acc': epoch_acc.item()}\n",
    "    \n",
    "    def epoch_end(self, epoch, result):\n",
    "        print(\"Epoch [{}], val_loss: {:.4f}, val_acc: {:.4f}\".format(epoch, result['val_loss'], result['val_acc']))\n",
    "    \n",
    "model = MnistModel()"
   ]
  },
  {
   "cell_type": "markdown",
   "metadata": {},
   "source": [
    "Ahora definiremos una funcion `evaluate` para evaluar, la cual generara la fase de validación y una funcion `fit` para generar el proceso completo de entrenamiento."
   ]
  },
  {
   "cell_type": "code",
   "execution_count": 59,
   "metadata": {},
   "outputs": [],
   "source": [
    "def evaluate(model, val_loader):\n",
    "    outputs = [model.validation_step(batch) for batch in val_loader]\n",
    "    return model.validation_epoch_end(outputs)\n",
    "\n",
    "def fit(epochs, lr, model, train_loader, val_loader, opt_func=torch.optim.SGD):\n",
    "    history = []\n",
    "    optimizer = opt_func(model.parameters(), lr)\n",
    "    for epoch in range(epochs):\n",
    "        # Fase entrenamiento\n",
    "        for batch in train_loader:\n",
    "            loss = model.training_step(batch)\n",
    "            loss.backward()\n",
    "            optimizer.step()\n",
    "            optimizer.zero_grad()\n",
    "        # Fase validacion\n",
    "        result = evaluate(model, val_loader)\n",
    "        model.epoch_end(epoch, result)\n",
    "        history.append(result)\n",
    "    return history"
   ]
  },
  {
   "cell_type": "markdown",
   "metadata": {},
   "source": [
    "La funcion`fit` guarda la funcion de perdida y la precision de cada epoca y retorna un historico del prceso de entrenamiento. Es una forma util para visualizar el proceso de entrenamiento. Antes de entrenar el modelo veamos como es la performance en el set de validaciónm con pesos y sesgos inicializados aleatorios."
   ]
  },
  {
   "cell_type": "code",
   "execution_count": 60,
   "metadata": {},
   "outputs": [
    {
     "data": {
      "text/plain": [
       "{'val_loss': 2.3183751106262207, 'val_acc': 0.07446598261594772}"
      ]
     },
     "execution_count": 60,
     "metadata": {},
     "output_type": "execute_result"
    }
   ],
   "source": [
    "result0 = evaluate(model, val_loader)\n",
    "result0"
   ]
  },
  {
   "cell_type": "markdown",
   "metadata": {},
   "source": [
    "La precision inicial es cercana al 10%, lo cual tiene sentido ya que son pesos aleatorios para una muestra de 10 posibles salidas. Probabilidad de 1 en 10 de acertar de forma aleatoria.\n",
    "\n",
    "Ahora entrenemos el modelo por 5 epocas y veamos los resultados."
   ]
  },
  {
   "cell_type": "code",
   "execution_count": 61,
   "metadata": {},
   "outputs": [
    {
     "name": "stdout",
     "output_type": "stream",
     "text": [
      "Epoch [0], val_loss: 1.9531, val_acc: 0.5808\n",
      "Epoch [1], val_loss: 1.6826, val_acc: 0.7182\n",
      "Epoch [2], val_loss: 1.4804, val_acc: 0.7612\n",
      "Epoch [3], val_loss: 1.3278, val_acc: 0.7826\n",
      "Epoch [4], val_loss: 1.2105, val_acc: 0.7961\n"
     ]
    }
   ],
   "source": [
    "history1 = fit(5, 0.001, model, train_loader, val_loader)"
   ]
  },
  {
   "cell_type": "markdown",
   "metadata": {},
   "source": [
    "En solo 5 epocas se ha obtenido una precision cercana al 80%. Ahora veamos como mejora el modelo con algunas epocas mas."
   ]
  },
  {
   "cell_type": "code",
   "execution_count": 62,
   "metadata": {},
   "outputs": [
    {
     "name": "stdout",
     "output_type": "stream",
     "text": [
      "Epoch [0], val_loss: 1.1183, val_acc: 0.8062\n",
      "Epoch [1], val_loss: 1.0444, val_acc: 0.8159\n",
      "Epoch [2], val_loss: 0.9841, val_acc: 0.8215\n",
      "Epoch [3], val_loss: 0.9339, val_acc: 0.8261\n",
      "Epoch [4], val_loss: 0.8915, val_acc: 0.8303\n"
     ]
    }
   ],
   "source": [
    "history2 = fit(5, 0.001, model, train_loader, val_loader)"
   ]
  },
  {
   "cell_type": "code",
   "execution_count": 63,
   "metadata": {},
   "outputs": [
    {
     "name": "stdout",
     "output_type": "stream",
     "text": [
      "Epoch [0], val_loss: 0.8552, val_acc: 0.8329\n",
      "Epoch [1], val_loss: 0.8237, val_acc: 0.8369\n",
      "Epoch [2], val_loss: 0.7963, val_acc: 0.8390\n",
      "Epoch [3], val_loss: 0.7720, val_acc: 0.8419\n",
      "Epoch [4], val_loss: 0.7504, val_acc: 0.8439\n"
     ]
    }
   ],
   "source": [
    "history3 = fit(5, 0.001, model, train_loader, val_loader)"
   ]
  },
  {
   "cell_type": "code",
   "execution_count": 64,
   "metadata": {},
   "outputs": [
    {
     "name": "stdout",
     "output_type": "stream",
     "text": [
      "Epoch [0], val_loss: 0.7310, val_acc: 0.8459\n",
      "Epoch [1], val_loss: 0.7136, val_acc: 0.8488\n",
      "Epoch [2], val_loss: 0.6978, val_acc: 0.8510\n",
      "Epoch [3], val_loss: 0.6833, val_acc: 0.8520\n",
      "Epoch [4], val_loss: 0.6702, val_acc: 0.8532\n"
     ]
    }
   ],
   "source": [
    "history4 = fit(5, 0.001, model, train_loader, val_loader)"
   ]
  },
  {
   "cell_type": "markdown",
   "metadata": {},
   "source": [
    "Mientras la precision crece a medida que entrenamos el modelo, es claro que la mejoria en cada epoca es cada vez menor. Podemos verlo a traves de una grafica en matplotlib."
   ]
  },
  {
   "cell_type": "code",
   "execution_count": 65,
   "metadata": {},
   "outputs": [
    {
     "data": {
      "image/png": "[encoded data removed]",
      "text/plain": [
       "<Figure size 432x288 with 1 Axes>"
      ]
     },
     "metadata": {
      "needs_background": "light"
     },
     "output_type": "display_data"
    }
   ],
   "source": [
    "history = [result0] + history1 + history2 + history3 + history4\n",
    "accuracies = [result['val_acc'] for result in history]\n",
    "plt.plot(accuracies, '-x')\n",
    "plt.xlabel('epocas')\n",
    "plt.ylabel('precision')\n",
    "plt.title('Precision vs numero epocas');"
   ]
  },
  {
   "cell_type": "markdown",
   "metadata": {},
   "source": [
    "# Testear el modelo con imagenes conocidas"
   ]
  },
  {
   "cell_type": "code",
   "execution_count": 66,
   "metadata": {},
   "outputs": [],
   "source": [
    "test_dataset = MNIST(\n",
    "    root='data/',\n",
    "    train=False,\n",
    "    transform=transforms.ToTensor()\n",
    ")"
   ]
  },
  {
   "cell_type": "code",
   "execution_count": 67,
   "metadata": {},
   "outputs": [
    {
     "name": "stdout",
     "output_type": "stream",
     "text": [
      "Shape: torch.Size([1, 28, 28])\n",
      "Label: 7\n"
     ]
    },
    {
     "data": {
      "image/png": "[encoded data removed]",
      "text/plain": [
       "<Figure size 432x288 with 1 Axes>"
      ]
     },
     "metadata": {
      "needs_background": "light"
     },
     "output_type": "display_data"
    }
   ],
   "source": [
    "img, label = test_dataset[0]\n",
    "plt.imshow(img[0], cmap='gray')\n",
    "print('Shape:', img.shape)\n",
    "print('Label:', label)"
   ]
  },
  {
   "cell_type": "code",
   "execution_count": 68,
   "metadata": {},
   "outputs": [
    {
     "data": {
      "text/plain": [
       "torch.Size([1, 1, 28, 28])"
      ]
     },
     "execution_count": 68,
     "metadata": {},
     "output_type": "execute_result"
    }
   ],
   "source": [
    "img.unsqueeze(0).shape"
   ]
  },
  {
   "cell_type": "markdown",
   "metadata": {},
   "source": [
    "`img.unsqueeze` agrega otra dimension al comienzo del tensor 1x28x28, haciendolo uno de 1x1x28x28, de este modo el modelo ve la imagen como una muestra que contiene solo una iamgen."
   ]
  },
  {
   "cell_type": "markdown",
   "metadata": {},
   "source": [
    "Definimos una funcion `predict_image` que nos permite obtener el label predecido por nuestro modelo."
   ]
  },
  {
   "cell_type": "code",
   "execution_count": 69,
   "metadata": {},
   "outputs": [],
   "source": [
    "def predict_image(img, model):\n",
    "    xb = img.unsqueeze(0)\n",
    "    yb = model(xb)\n",
    "    _, preds  = torch.max(yb, dim=1)\n",
    "    return preds[0].item()"
   ]
  },
  {
   "cell_type": "code",
   "execution_count": 70,
   "metadata": {},
   "outputs": [
    {
     "name": "stdout",
     "output_type": "stream",
     "text": [
      "Label: 7 , Predicted: 7\n"
     ]
    },
    {
     "data": {
      "image/png": "[encoded data removed]",
      "text/plain": [
       "<Figure size 432x288 with 1 Axes>"
      ]
     },
     "metadata": {
      "needs_background": "light"
     },
     "output_type": "display_data"
    }
   ],
   "source": [
    "img, label = test_dataset[0]\n",
    "plt.imshow(img[0], cmap='gray')\n",
    "print('Label:', label, ', Predicted:', predict_image(img, model))"
   ]
  },
  {
   "cell_type": "code",
   "execution_count": 71,
   "metadata": {},
   "outputs": [
    {
     "name": "stdout",
     "output_type": "stream",
     "text": [
      "Label: 0 , Predicted: 0\n"
     ]
    },
    {
     "data": {
      "image/png": "[encoded data removed]",
      "text/plain": [
       "<Figure size 432x288 with 1 Axes>"
      ]
     },
     "metadata": {
      "needs_background": "light"
     },
     "output_type": "display_data"
    }
   ],
   "source": [
    "img, label = test_dataset[10]\n",
    "plt.imshow(img[0], cmap='gray')\n",
    "print('Label:', label, ', Predicted:', predict_image(img, model))"
   ]
  },
  {
   "cell_type": "code",
   "execution_count": 72,
   "metadata": {},
   "outputs": [
    {
     "name": "stdout",
     "output_type": "stream",
     "text": [
      "Label: 9 , Predicted: 4\n"
     ]
    },
    {
     "data": {
      "image/png": "[encoded data removed]",
      "text/plain": [
       "<Figure size 432x288 with 1 Axes>"
      ]
     },
     "metadata": {
      "needs_background": "light"
     },
     "output_type": "display_data"
    }
   ],
   "source": [
    "img, label = test_dataset[193]\n",
    "plt.imshow(img[0], cmap='gray')\n",
    "print('Label:', label, ', Predicted:', predict_image(img, model))"
   ]
  },
  {
   "cell_type": "code",
   "execution_count": 73,
   "metadata": {},
   "outputs": [
    {
     "name": "stdout",
     "output_type": "stream",
     "text": [
      "Label: 2 , Predicted: 8\n"
     ]
    },
    {
     "data": {
      "image/png": "[encoded data removed]",
      "text/plain": [
       "<Figure size 432x288 with 1 Axes>"
      ]
     },
     "metadata": {
      "needs_background": "light"
     },
     "output_type": "display_data"
    }
   ],
   "source": [
    "img, label = test_dataset[1839]\n",
    "plt.imshow(img[0], cmap='gray')\n",
    "print('Label:', label, ', Predicted:', predict_image(img, model))"
   ]
  },
  {
   "cell_type": "code",
   "execution_count": 74,
   "metadata": {},
   "outputs": [
    {
     "data": {
      "text/plain": [
       "{'val_loss': 0.6431774497032166, 'val_acc': 0.8594726324081421}"
      ]
     },
     "execution_count": 74,
     "metadata": {},
     "output_type": "execute_result"
    }
   ],
   "source": [
    "test_loader = DataLoader(test_dataset, batch_size=256)\n",
    "result = evaluate(model, test_loader)\n",
    "result"
   ]
  }
 ],
 "metadata": {
  "kernelspec": {
   "display_name": "Python 3",
   "language": "python",
   "name": "python3"
  },
  "language_info": {
   "codemirror_mode": {
    "name": "ipython",
    "version": 3
   },
   "file_extension": ".py",
   "mimetype": "text/x-python",
   "name": "python",
   "nbconvert_exporter": "python",
   "pygments_lexer": "ipython3",
   "version": "3.8.3"
  }
 },
 "nbformat": 4,
 "nbformat_minor": 4
}
